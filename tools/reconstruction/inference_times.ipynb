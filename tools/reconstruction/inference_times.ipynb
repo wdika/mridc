{
 "cells": [
  {
   "cell_type": "code",
   "execution_count": 7,
   "metadata": {},
   "outputs": [
    {
     "name": "stdout",
     "output_type": "stream",
     "text": [
      "The autoreload extension is already loaded. To reload it, use:\n",
      "  %reload_ext autoreload\n"
     ]
    }
   ],
   "source": [
    "%load_ext autoreload\n",
    "%autoreload"
   ]
  },
  {
   "cell_type": "code",
   "execution_count": 8,
   "metadata": {
    "pycharm": {
     "name": "#%%\n"
    }
   },
   "outputs": [],
   "source": [
    "import numpy as np\n",
    "import torch\n",
    "import h5py\n",
    "import time\n",
    "import gc\n",
    "\n",
    "from IPython import get_ipython\n",
    "import os\n",
    "import sys\n",
    "\n",
    "os.environ[\"TOOLBOX_PATH\"] = \"/scratch/dkarkalousos/apps/bart-0.6.00/\"\n",
    "sys.path.append(\"/scratch/dkarkalousos/apps/bart-0.6.00/python/\")\n",
    "\n",
    "import bart"
   ]
  },
  {
   "cell_type": "code",
   "execution_count": 9,
   "metadata": {},
   "outputs": [],
   "source": [
    "device = \"cuda:2\"\n",
    "torch.cuda.set_device(2)"
   ]
  },
  {
   "cell_type": "code",
   "execution_count": 10,
   "metadata": {
    "pycharm": {
     "is_executing": true
    }
   },
   "outputs": [],
   "source": [
    "data_path = \"/data/projects/recon/data/private/STAIRS/proc/Rothschild/20210806_1539_stroke/4RIM/proc/flair\"\n",
    "kspace = h5py.File(data_path, \"r\")[\"kspace\"][()]\n",
    "sensitivity_map = h5py.File(data_path, \"r\")[\"sensitivity_map\"][()]\n",
    "\n",
    "kspace = np.expand_dims(np.transpose(kspace, (0, 2, 3, 1)), 1)\n",
    "sensitivity_map = np.expand_dims(np.transpose(np.fft.fftshift(sensitivity_map, axes=(-2, -1)), (0, 2, 3, 1)), 1)"
   ]
  },
  {
   "cell_type": "code",
   "execution_count": 11,
   "metadata": {},
   "outputs": [],
   "source": [
    "recon_times = []"
   ]
  },
  {
   "cell_type": "code",
   "execution_count": null,
   "metadata": {
    "pycharm": {
     "is_executing": true,
     "name": "#%%\n"
    }
   },
   "outputs": [],
   "source": [
    "torch.cuda.reset_peak_memory_stats()\n",
    "torch.cuda.empty_cache()\n",
    "gc.collect()\n",
    "\n",
    "iters = 1\n",
    "\n",
    "for sl in range(kspace.shape[0]):\n",
    "    start_time = time.time()\n",
    "    out = bart.bart(1, f\"pics -d0 -g -S -R W:7:0:0.05 -i {iters}\", kspace[sl], sensitivity_map[sl])\n",
    "recon_times.append([iters, time.time() - start_time])"
   ]
  },
  {
   "cell_type": "code",
   "execution_count": null,
   "metadata": {},
   "outputs": [],
   "source": [
    "torch.cuda.reset_peak_memory_stats()\n",
    "torch.cuda.empty_cache()\n",
    "gc.collect()\n",
    "\n",
    "iters = 2\n",
    "\n",
    "inference_times_1iter = []\n",
    "for sl in range(kspace.shape[0]):\n",
    "    start_time = time.time()\n",
    "    out = bart.bart(1, f\"pics -d0 -g -S -R W:7:0:0.05 -i {iters}\", kspace[sl], sensitivity_map[sl])\n",
    "recon_times.append([iters, time.time() - start_time])"
   ]
  },
  {
   "cell_type": "code",
   "execution_count": null,
   "metadata": {},
   "outputs": [],
   "source": [
    "torch.cuda.reset_peak_memory_stats()\n",
    "torch.cuda.empty_cache()\n",
    "gc.collect()\n",
    "\n",
    "iters = 5\n",
    "\n",
    "inference_times_1iter = []\n",
    "for sl in range(kspace.shape[0]):\n",
    "    start_time = time.time()\n",
    "    out = bart.bart(1, f\"pics -d0 -g -S -R W:7:0:0.05 -i {iters}\", kspace[sl], sensitivity_map[sl])\n",
    "recon_times.append([iters, time.time() - start_time])"
   ]
  },
  {
   "cell_type": "code",
   "execution_count": null,
   "metadata": {
    "pycharm": {
     "is_executing": true
    }
   },
   "outputs": [],
   "source": [
    "torch.cuda.reset_peak_memory_stats()\n",
    "torch.cuda.empty_cache()\n",
    "gc.collect()\n",
    "\n",
    "iters = 10\n",
    "\n",
    "inference_times_1iter = []\n",
    "for sl in range(kspace.shape[0]):\n",
    "    start_time = time.time()\n",
    "    out = bart.bart(1, f\"pics -d0 -g -S -R W:7:0:0.05 -i {iters}\", kspace[sl], sensitivity_map[sl])\n",
    "recon_times.append([iters, time.time() - start_time])"
   ]
  },
  {
   "cell_type": "code",
   "execution_count": null,
   "metadata": {},
   "outputs": [],
   "source": [
    "torch.cuda.reset_peak_memory_stats()\n",
    "torch.cuda.empty_cache()\n",
    "gc.collect()\n",
    "\n",
    "iters = 20\n",
    "\n",
    "inference_times_1iter = []\n",
    "for sl in range(kspace.shape[0]):\n",
    "    start_time = time.time()\n",
    "    out = bart.bart(1, f\"pics -d0 -g -S -R W:7:0:0.05 -i {iters}\", kspace[sl], sensitivity_map[sl])\n",
    "recon_times.append([iters, time.time() - start_time])"
   ]
  },
  {
   "cell_type": "code",
   "execution_count": null,
   "metadata": {},
   "outputs": [],
   "source": [
    "torch.cuda.reset_peak_memory_stats()\n",
    "torch.cuda.empty_cache()\n",
    "gc.collect()\n",
    "\n",
    "iters = 30\n",
    "\n",
    "inference_times_1iter = []\n",
    "for sl in range(kspace.shape[0]):\n",
    "    start_time = time.time()\n",
    "    out = bart.bart(1, f\"pics -d0 -g -S -R W:7:0:0.05 -i {iters}\", kspace[sl], sensitivity_map[sl])\n",
    "recon_times.append([iters, time.time() - start_time])"
   ]
  },
  {
   "cell_type": "code",
   "execution_count": null,
   "metadata": {},
   "outputs": [],
   "source": [
    "torch.cuda.reset_peak_memory_stats()\n",
    "torch.cuda.empty_cache()\n",
    "gc.collect()\n",
    "\n",
    "iters = 40\n",
    "\n",
    "inference_times_1iter = []\n",
    "for sl in range(kspace.shape[0]):\n",
    "    start_time = time.time()\n",
    "    out = bart.bart(1, f\"pics -d0 -g -S -R W:7:0:0.05 -i {iters}\", kspace[sl], sensitivity_map[sl])\n",
    "recon_times.append([iters, time.time() - start_time])"
   ]
  },
  {
   "cell_type": "code",
   "execution_count": null,
   "metadata": {},
   "outputs": [],
   "source": [
    "torch.cuda.reset_peak_memory_stats()\n",
    "torch.cuda.empty_cache()\n",
    "gc.collect()\n",
    "\n",
    "iters = 50\n",
    "\n",
    "inference_times_1iter = []\n",
    "for sl in range(kspace.shape[0]):\n",
    "    start_time = time.time()\n",
    "    out = bart.bart(1, f\"pics -d0 -g -S -R W:7:0:0.05 -i {iters}\", kspace[sl], sensitivity_map[sl])\n",
    "recon_times.append([iters, time.time() - start_time])"
   ]
  },
  {
   "cell_type": "code",
   "execution_count": null,
   "metadata": {
    "pycharm": {
     "is_executing": true
    }
   },
   "outputs": [],
   "source": [
    "torch.cuda.reset_peak_memory_stats()\n",
    "torch.cuda.empty_cache()\n",
    "gc.collect()\n",
    "\n",
    "iters = 60\n",
    "\n",
    "inference_times_60iter = []\n",
    "for sl in range(kspace.shape[0]):\n",
    "    start_time = time.time()\n",
    "    out = bart.bart(1, f\"pics -d0 -g -S -R W:7:0:0.05 -i {iters}\", kspace[sl], sensitivity_map[sl])\n",
    "recon_times.append([iters, time.time() - start_time])"
   ]
  },
  {
   "cell_type": "code",
   "execution_count": null,
   "metadata": {
    "pycharm": {
     "is_executing": true
    }
   },
   "outputs": [],
   "source": [
    "recon_times"
   ]
  },
  {
   "cell_type": "code",
   "execution_count": null,
   "metadata": {},
   "outputs": [],
   "source": []
  }
 ],
 "metadata": {
  "kernelspec": {
   "display_name": "Python 3",
   "language": "python",
   "name": "python3"
  },
  "language_info": {
   "codemirror_mode": {
    "name": "ipython",
    "version": 3
   },
   "file_extension": ".py",
   "mimetype": "text/x-python",
   "name": "python",
   "nbconvert_exporter": "python",
   "pygments_lexer": "ipython3",
   "version": "3.9.7"
  }
 },
 "nbformat": 4,
 "nbformat_minor": 1
}